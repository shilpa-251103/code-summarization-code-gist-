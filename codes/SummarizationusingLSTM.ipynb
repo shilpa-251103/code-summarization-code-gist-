{
  "cells": [
    {
      "cell_type": "code",
      "execution_count": null,
      "metadata": {
        "colab": {
          "base_uri": "https://localhost:8080/"
        },
        "id": "7jhSMQl-BAsH",
        "outputId": "19c62975-a448-4969-9ab6-93bab9f093bd"
      },
      "outputs": [
        {
          "output_type": "stream",
          "name": "stdout",
          "text": [
            "Drive already mounted at /content/drive; to attempt to forcibly remount, call drive.mount(\"/content/drive\", force_remount=True).\n"
          ]
        }
      ],
      "source": [
        "from google.colab import drive\n",
        "drive.mount('/content/drive')\n"
      ]
    },
    {
      "cell_type": "code",
      "execution_count": null,
      "metadata": {
        "id": "j4ddNUtZDO1P"
      },
      "outputs": [],
      "source": [
        "import os\n",
        "os.chdir('/content/drive/My Drive/Colab Notebooks')\n"
      ]
    },
    {
      "cell_type": "code",
      "execution_count": null,
      "metadata": {
        "id": "ezIXVBuvDQfI"
      },
      "outputs": [],
      "source": [
        "with open('attention.py', 'w') as f:\n",
        "    f.write('''\n",
        "    import tensorflow as tf\n",
        "from tensorflow.python.keras import backend as K\n",
        "\n",
        "logger = tf.get_logger()\n",
        "\n",
        "class AttentionLayer(tf.keras.layers.Layer):\n",
        "    \"\"\"\n",
        "    This class implements Bahdanau attention (https://arxiv.org/pdf/1409.0473.pdf).\n",
        "    There are three sets of weights introduced W_a, U_a, and V_a\n",
        "     \"\"\"\n",
        "\n",
        "    def __init__(self, **kwargs):\n",
        "        super(AttentionLayer, self).__init__(**kwargs)\n",
        "\n",
        "    def build(self, input_shape):\n",
        "        assert isinstance(input_shape, list)\n",
        "        # Create a trainable weight variable for this layer.\n",
        "\n",
        "        self.W_a = self.add_weight(name='W_a',\n",
        "                                   shape=tf.TensorShape((input_shape[0][2], input_shape[0][2])),\n",
        "                                   initializer='uniform',\n",
        "                                   trainable=True)\n",
        "        self.U_a = self.add_weight(name='U_a',\n",
        "                                   shape=tf.TensorShape((input_shape[1][2], input_shape[0][2])),\n",
        "                                   initializer='uniform',\n",
        "                                   trainable=True)\n",
        "        self.V_a = self.add_weight(name='V_a',\n",
        "                                   shape=tf.TensorShape((input_shape[0][2], 1)),\n",
        "                                   initializer='uniform',\n",
        "                                   trainable=True)\n",
        "\n",
        "        super(AttentionLayer, self).build(input_shape)  # Be sure to call this at the end\n",
        "\n",
        "    def call(self, inputs):\n",
        "        \"\"\"\n",
        "        inputs: [encoder_output_sequence, decoder_output_sequence]\n",
        "        \"\"\"\n",
        "        assert type(inputs) == list\n",
        "        encoder_out_seq, decoder_out_seq = inputs\n",
        "\n",
        "        logger.debug(f\"encoder_out_seq.shape = {encoder_out_seq.shape}\")\n",
        "        logger.debug(f\"decoder_out_seq.shape = {decoder_out_seq.shape}\")\n",
        "\n",
        "        def energy_step(inputs, states):\n",
        "            \"\"\" Step function for computing energy for a single decoder state\n",
        "            inputs: (batchsize * 1 * de_in_dim)\n",
        "            states: (batchsize * 1 * de_latent_dim)\n",
        "            \"\"\"\n",
        "\n",
        "            logger.debug(\"Running energy computation step\")\n",
        "\n",
        "            if not isinstance(states, (list, tuple)):\n",
        "                raise TypeError(f\"States must be an iterable. Got {states} of type {type(states)}\")\n",
        "\n",
        "            encoder_full_seq = states[-1]\n",
        "\n",
        "            \"\"\" Computing S.Wa where S=[s0, s1, ..., si]\"\"\"\n",
        "            # <= batch size * en_seq_len * latent_dim\n",
        "            W_a_dot_s = K.dot(encoder_full_seq, self.W_a)\n",
        "\n",
        "            \"\"\" Computing hj.Ua \"\"\"\n",
        "            U_a_dot_h = K.expand_dims(K.dot(inputs, self.U_a), 1)  # <= batch_size, 1, latent_dim\n",
        "\n",
        "            logger.debug(f\"U_a_dot_h.shape = {U_a_dot_h.shape}\")\n",
        "\n",
        "            \"\"\" tanh(S.Wa + hj.Ua) \"\"\"\n",
        "            # <= batch_size*en_seq_len, latent_dim\n",
        "            Ws_plus_Uh = K.tanh(W_a_dot_s + U_a_dot_h)\n",
        "\n",
        "            logger.debug(f\"Ws_plus_Uh.shape = {Ws_plus_Uh.shape}\")\n",
        "\n",
        "            \"\"\" softmax(va.tanh(S.Wa + hj.Ua)) \"\"\"\n",
        "            # <= batch_size, en_seq_len\n",
        "            e_i = K.squeeze(K.dot(Ws_plus_Uh, self.V_a), axis=-1)\n",
        "            # <= batch_size, en_seq_len\n",
        "            e_i = K.softmax(e_i)\n",
        "\n",
        "            logger.debug(f\"ei.shape = {e_i.shape}\")\n",
        "\n",
        "            return e_i, [e_i]\n",
        "\n",
        "        def context_step(inputs, states):\n",
        "            \"\"\" Step function for computing ci using ei \"\"\"\n",
        "\n",
        "            logger.debug(\"Running attention vector computation step\")\n",
        "\n",
        "            if not isinstance(states, (list, tuple)):\n",
        "                raise TypeError(f\"States must be an iterable. Got {states} of type {type(states)}\")\n",
        "\n",
        "            encoder_full_seq = states[-1]\n",
        "\n",
        "            # <= batch_size, hidden_size\n",
        "            c_i = K.sum(encoder_full_seq * K.expand_dims(inputs, -1), axis=1)\n",
        "\n",
        "            logger.debug(f\"ci.shape = {c_i.shape}\")\n",
        "\n",
        "            return c_i, [c_i]\n",
        "\n",
        "        # we don't maintain states between steps when computing attention\n",
        "        # attention is stateless, so we're passing a fake state for RNN step function\n",
        "        fake_state_c = K.sum(encoder_out_seq, axis=1)\n",
        "        fake_state_e = K.sum(encoder_out_seq, axis=2)  # <= (batch_size, enc_seq_len, latent_dim\n",
        "\n",
        "        \"\"\" Computing energy outputs \"\"\"\n",
        "        # e_outputs => (batch_size, de_seq_len, en_seq_len)\n",
        "        last_out, e_outputs, _ = K.rnn(\n",
        "            energy_step, decoder_out_seq, [fake_state_e], constants=[encoder_out_seq]\n",
        "        )\n",
        "\n",
        "        \"\"\" Computing context vectors \"\"\"\n",
        "        last_out, c_outputs, _ = K.rnn(\n",
        "            context_step, e_outputs, [fake_state_c], constants=[encoder_out_seq]\n",
        "        )\n",
        "\n",
        "        return c_outputs, e_outputs\n",
        "\n",
        "    def compute_output_shape(self, input_shape):\n",
        "        \"\"\" Outputs produced by the layer \"\"\"\n",
        "        return [\n",
        "            tf.TensorShape((input_shape[1][0], input_shape[1][1], input_shape[1][2])),\n",
        "            tf.TensorShape((input_shape[1][0], input_shape[1][1], input_shape[0][1]))\n",
        "        ]\n",
        "    ''')\n"
      ]
    },
    {
      "cell_type": "code",
      "execution_count": null,
      "metadata": {
        "colab": {
          "base_uri": "https://localhost:8080/",
          "height": 36
        },
        "id": "snqTdmKdAILG",
        "outputId": "f088b48a-ff26-451e-b92e-d0ed43cbe7a9"
      },
      "outputs": [
        {
          "output_type": "execute_result",
          "data": {
            "text/plain": [
              "'/content/drive/My Drive/Colab Notebooks/attention.py'"
            ],
            "application/vnd.google.colaboratory.intrinsic+json": {
              "type": "string"
            }
          },
          "metadata": {},
          "execution_count": 8
        }
      ],
      "source": [
        "from shutil import copyfile\n",
        "\n",
        "# Source path (where the file is currently located)\n",
        "src_path = '/content/attention.py'\n",
        "\n",
        "# Destination path (where you want to copy the file)\n",
        "dst_path = '/content/drive/My Drive/Colab Notebooks/attention.py'\n",
        "\n",
        "# Copy the file\n",
        "copyfile(src=src_path, dst=dst_path)\n"
      ]
    },
    {
      "cell_type": "code",
      "execution_count": null,
      "metadata": {
        "id": "4AaLI3ugGKFN"
      },
      "outputs": [],
      "source": [
        "import numpy as np\n",
        "import pandas as pd\n",
        "import re\n",
        "from bs4 import BeautifulSoup\n",
        "from keras.preprocessing.text import Tokenizer\n",
        "from keras.preprocessing.sequence import pad_sequences\n",
        "from nltk.corpus import stopwords\n",
        "from tensorflow.keras.layers import Input, LSTM, Embedding, Dense, Concatenate, TimeDistributed\n",
        "from tensorflow.keras.models import Model\n",
        "from tensorflow.keras.callbacks import EarlyStopping, ModelCheckpoint\n",
        "import warnings\n",
        "from attention import AttentionLayer\n",
        "pd.set_option(\"display.max_colwidth\", 200)\n",
        "warnings.filterwarnings(\"ignore\")"
      ]
    },
    {
      "cell_type": "code",
      "execution_count": null,
      "metadata": {
        "id": "0eCmdeyTGLlP"
      },
      "outputs": [],
      "source": [
        "data = pd.read_csv(\"/content/Reviews.csv\", error_bad_lines=False)\n"
      ]
    },
    {
      "cell_type": "code",
      "execution_count": null,
      "metadata": {
        "id": "MuqR-MgWHED5"
      },
      "outputs": [],
      "source": [
        "data.drop_duplicates(subset=['Text'],inplace=True)#dropping duplicates\n",
        "data.dropna(axis=0,inplace=True)#dropping na"
      ]
    },
    {
      "cell_type": "code",
      "execution_count": null,
      "metadata": {
        "colab": {
          "base_uri": "https://localhost:8080/"
        },
        "id": "h4bv7fIdKMtT",
        "outputId": "43f3f6a3-eed4-498e-9ddb-9b0fe98f1593"
      },
      "outputs": [
        {
          "output_type": "stream",
          "name": "stdout",
          "text": [
            "<class 'pandas.core.frame.DataFrame'>\n",
            "Int64Index: 199 entries, 0 to 199\n",
            "Data columns (total 10 columns):\n",
            " #   Column                  Non-Null Count  Dtype \n",
            "---  ------                  --------------  ----- \n",
            " 0   Id                      199 non-null    int64 \n",
            " 1   ProductId               199 non-null    object\n",
            " 2   UserId                  199 non-null    object\n",
            " 3   ProfileName             199 non-null    object\n",
            " 4   HelpfulnessNumerator    199 non-null    int64 \n",
            " 5   HelpfulnessDenominator  199 non-null    int64 \n",
            " 6   Score                   199 non-null    int64 \n",
            " 7   Time                    199 non-null    int64 \n",
            " 8   Summary                 199 non-null    object\n",
            " 9   Text                    199 non-null    object\n",
            "dtypes: int64(5), object(5)\n",
            "memory usage: 17.1+ KB\n"
          ]
        }
      ],
      "source": [
        "data.info()"
      ]
    },
    {
      "cell_type": "code",
      "execution_count": null,
      "metadata": {
        "id": "AbmArq94KOiF"
      },
      "outputs": [],
      "source": [
        "contraction_mapping = {\"ain't\": \"is not\", \"aren't\": \"are not\",\"can't\": \"cannot\", \"'cause\": \"because\", \"could've\": \"could have\", \"couldn't\": \"could not\",\n",
        "                           \"didn't\": \"did not\",  \"doesn't\": \"does not\", \"don't\": \"do not\", \"hadn't\": \"had not\", \"hasn't\": \"has not\", \"haven't\": \"have not\",\n",
        "                           \"he'd\": \"he would\",\"he'll\": \"he will\", \"he's\": \"he is\", \"how'd\": \"how did\", \"how'd'y\": \"how do you\", \"how'll\": \"how will\", \"how's\": \"how is\",\n",
        "                           \"I'd\": \"I would\", \"I'd've\": \"I would have\", \"I'll\": \"I will\", \"I'll've\": \"I will have\",\"I'm\": \"I am\", \"I've\": \"I have\", \"i'd\": \"i would\",\n",
        "                           \"i'd've\": \"i would have\", \"i'll\": \"i will\",  \"i'll've\": \"i will have\",\"i'm\": \"i am\", \"i've\": \"i have\", \"isn't\": \"is not\", \"it'd\": \"it would\",\n",
        "                           \"it'd've\": \"it would have\", \"it'll\": \"it will\", \"it'll've\": \"it will have\",\"it's\": \"it is\", \"let's\": \"let us\", \"ma'am\": \"madam\",\n",
        "                           \"mayn't\": \"may not\", \"might've\": \"might have\",\"mightn't\": \"might not\",\"mightn't've\": \"might not have\", \"must've\": \"must have\",\n",
        "                           \"mustn't\": \"must not\", \"mustn't've\": \"must not have\", \"needn't\": \"need not\", \"needn't've\": \"need not have\",\"o'clock\": \"of the clock\",\n",
        "                           \"oughtn't\": \"ought not\", \"oughtn't've\": \"ought not have\", \"shan't\": \"shall not\", \"sha'n't\": \"shall not\", \"shan't've\": \"shall not have\",\n",
        "                           \"she'd\": \"she would\", \"she'd've\": \"she would have\", \"she'll\": \"she will\", \"she'll've\": \"she will have\", \"she's\": \"she is\",\n",
        "                           \"should've\": \"should have\", \"shouldn't\": \"should not\", \"shouldn't've\": \"should not have\", \"so've\": \"so have\",\"so's\": \"so as\",\n",
        "                           \"this's\": \"this is\",\"that'd\": \"that would\", \"that'd've\": \"that would have\", \"that's\": \"that is\", \"there'd\": \"there would\",\n",
        "                           \"there'd've\": \"there would have\", \"there's\": \"there is\", \"here's\": \"here is\",\"they'd\": \"they would\", \"they'd've\": \"they would have\",\n",
        "                           \"they'll\": \"they will\", \"they'll've\": \"they will have\", \"they're\": \"they are\", \"they've\": \"they have\", \"to've\": \"to have\",\n",
        "                           \"wasn't\": \"was not\", \"we'd\": \"we would\", \"we'd've\": \"we would have\", \"we'll\": \"we will\", \"we'll've\": \"we will have\", \"we're\": \"we are\",\n",
        "                           \"we've\": \"we have\", \"weren't\": \"were not\", \"what'll\": \"what will\", \"what'll've\": \"what will have\", \"what're\": \"what are\",\n",
        "                           \"what's\": \"what is\", \"what've\": \"what have\", \"when's\": \"when is\", \"when've\": \"when have\", \"where'd\": \"where did\", \"where's\": \"where is\",\n",
        "                           \"where've\": \"where have\", \"who'll\": \"who will\", \"who'll've\": \"who will have\", \"who's\": \"who is\", \"who've\": \"who have\",\n",
        "                           \"why's\": \"why is\", \"why've\": \"why have\", \"will've\": \"will have\", \"won't\": \"will not\", \"won't've\": \"will not have\",\n",
        "                           \"would've\": \"would have\", \"wouldn't\": \"would not\", \"wouldn't've\": \"would not have\", \"y'all\": \"you all\",\n",
        "                           \"y'all'd\": \"you all would\",\"y'all'd've\": \"you all would have\",\"y'all're\": \"you all are\",\"y'all've\": \"you all have\",\n",
        "                           \"you'd\": \"you would\", \"you'd've\": \"you would have\", \"you'll\": \"you will\", \"you'll've\": \"you will have\",\n",
        "                           \"you're\": \"you are\", \"you've\": \"you have\"}"
      ]
    },
    {
      "cell_type": "code",
      "execution_count": null,
      "metadata": {
        "colab": {
          "base_uri": "https://localhost:8080/"
        },
        "id": "NGwQtwAZKV68",
        "outputId": "1550663e-c407-4e6c-e764-c4a14bfe0de7"
      },
      "outputs": [
        {
          "output_type": "stream",
          "name": "stderr",
          "text": [
            "[nltk_data] Downloading package stopwords to /root/nltk_data...\n",
            "[nltk_data]   Unzipping corpora/stopwords.zip.\n"
          ]
        }
      ],
      "source": [
        "import nltk\n",
        "nltk.download('stopwords')\n",
        "stop_words = set(stopwords.words('english'))"
      ]
    },
    {
      "cell_type": "code",
      "execution_count": null,
      "metadata": {
        "id": "ghF-ldsFL72q"
      },
      "outputs": [],
      "source": [
        "def text_cleaner(text,num):\n",
        "    newString = text.lower()\n",
        "    newString = BeautifulSoup(newString, \"lxml\").text\n",
        "    newString = re.sub(r'\\([^)]*\\)', '', newString)\n",
        "    newString = re.sub('\"','', newString)\n",
        "    newString = ' '.join([contraction_mapping[t] if t in contraction_mapping else t for t in newString.split(\" \")])\n",
        "    newString = re.sub(r\"'s\\b\",\"\",newString)\n",
        "    newString = re.sub(\"[^a-zA-Z]\", \" \", newString)\n",
        "    newString = re.sub('[m]{2,}', 'mm', newString)\n",
        "    if(num==0):\n",
        "        tokens = [w for w in newString.split() if not w in stop_words]\n",
        "    else:\n",
        "        tokens=newString.split()\n",
        "    long_words=[]\n",
        "    for i in tokens:\n",
        "        if len(i)>1:                                                 #removing short word\n",
        "            long_words.append(i)\n",
        "    return (\" \".join(long_words)).strip()"
      ]
    },
    {
      "cell_type": "code",
      "execution_count": null,
      "metadata": {
        "colab": {
          "base_uri": "https://localhost:8080/"
        },
        "id": "-xC3rbscMALk",
        "outputId": "752421ef-865b-4d99-9f4f-c36820bf46db"
      },
      "outputs": [
        {
          "output_type": "execute_result",
          "data": {
            "text/plain": [
              "['bought several vitality canned dog food products found good quality product looks like stew processed meat smells better labrador finicky appreciates product better',\n",
              " 'product arrived labeled jumbo salted peanuts peanuts actually small sized unsalted sure error vendor intended represent product jumbo',\n",
              " 'confection around centuries light pillowy citrus gelatin nuts case filberts cut tiny squares liberally coated powdered sugar tiny mouthful heaven chewy flavorful highly recommend yummy treat familiar story lewis lion witch wardrobe treat seduces edmund selling brother sisters witch',\n",
              " 'looking secret ingredient robitussin believe found got addition root beer extract ordered made cherry soda flavor medicinal',\n",
              " 'great taffy great price wide assortment yummy taffy delivery quick taffy lover deal']"
            ]
          },
          "metadata": {},
          "execution_count": 16
        }
      ],
      "source": [
        "#call the function\n",
        "cleaned_text = []\n",
        "for t in data['Text']:\n",
        "    cleaned_text.append(text_cleaner(t,0))\n",
        "cleaned_text[:5]\n"
      ]
    },
    {
      "cell_type": "code",
      "execution_count": null,
      "metadata": {
        "colab": {
          "base_uri": "https://localhost:8080/"
        },
        "id": "zuIxBibLMGGs",
        "outputId": "e7158bb5-2718-4b54-c6e0-c1cf26b56eab"
      },
      "outputs": [
        {
          "output_type": "execute_result",
          "data": {
            "text/plain": [
              "['good quality dog food',\n",
              " 'not as advertised',\n",
              " 'delight says it all',\n",
              " 'cough medicine',\n",
              " 'great taffy',\n",
              " 'nice taffy',\n",
              " 'great just as good as the expensive brands',\n",
              " 'wonderful tasty taffy',\n",
              " 'yay barley',\n",
              " 'healthy dog food']"
            ]
          },
          "metadata": {},
          "execution_count": 17
        }
      ],
      "source": [
        "#call the function\n",
        "cleaned_summary = []\n",
        "for t in data['Summary']:\n",
        "    cleaned_summary.append(text_cleaner(t,1))\n",
        "cleaned_summary[:10]"
      ]
    },
    {
      "cell_type": "code",
      "execution_count": null,
      "metadata": {
        "id": "953gDxqJMJfX"
      },
      "outputs": [],
      "source": [
        "data['cleaned_text']=cleaned_text\n",
        "data['cleaned_summary']=cleaned_summary"
      ]
    },
    {
      "cell_type": "code",
      "execution_count": null,
      "metadata": {
        "id": "UEgI47VZMKJI"
      },
      "outputs": [],
      "source": [
        "data.replace('', np.nan, inplace=True)\n",
        "data.dropna(axis=0,inplace=True)"
      ]
    },
    {
      "cell_type": "code",
      "execution_count": null,
      "metadata": {
        "colab": {
          "base_uri": "https://localhost:8080/",
          "height": 452
        },
        "id": "Vv7i9GmKMMiS",
        "outputId": "05f94884-bac5-4a4c-f5bb-728f9b7929bd"
      },
      "outputs": [
        {
          "output_type": "display_data",
          "data": {
            "text/plain": [
              "<Figure size 640x480 with 2 Axes>"
            ],
            "image/png": "[encoded data removed]"
          },
          "metadata": {}
        }
      ],
      "source": [
        "import matplotlib.pyplot as plt\n",
        "\n",
        "text_word_count = []\n",
        "summary_word_count = []\n",
        "\n",
        "# populate the lists with sentence lengths\n",
        "for i in data['cleaned_text']:\n",
        "      text_word_count.append(len(i.split()))\n",
        "\n",
        "for i in data['cleaned_summary']:\n",
        "      summary_word_count.append(len(i.split()))\n",
        "\n",
        "length_df = pd.DataFrame({'text':text_word_count, 'summary':summary_word_count})\n",
        "\n",
        "length_df.hist(bins = 30)\n",
        "plt.show()"
      ]
    },
    {
      "cell_type": "code",
      "execution_count": null,
      "metadata": {
        "colab": {
          "base_uri": "https://localhost:8080/"
        },
        "id": "ziOi-NThMUs_",
        "outputId": "ec0a4443-1faa-4167-8696-1d85b8cf00a8"
      },
      "outputs": [
        {
          "output_type": "stream",
          "name": "stdout",
          "text": [
            "0.9849246231155779\n"
          ]
        }
      ],
      "source": [
        "cnt=0\n",
        "for i in data['cleaned_summary']:\n",
        "    if(len(i.split())<=10):\n",
        "        cnt=cnt+1\n",
        "print(cnt/len(data['cleaned_summary']))"
      ]
    },
    {
      "cell_type": "code",
      "execution_count": null,
      "metadata": {
        "colab": {
          "base_uri": "https://localhost:8080/"
        },
        "id": "_U7hRIVWMYCf",
        "outputId": "1153b362-3aab-4881-f623-214e64031c0c"
      },
      "outputs": [
        {
          "output_type": "stream",
          "name": "stdout",
          "text": [
            "0.9346733668341709\n"
          ]
        }
      ],
      "source": [
        "cnt=0\n",
        "for i in data['cleaned_text']:\n",
        "    if(len(i.split())<=80):\n",
        "        cnt=cnt+1\n",
        "print(cnt/len(data['cleaned_text']))"
      ]
    },
    {
      "cell_type": "code",
      "execution_count": null,
      "metadata": {
        "id": "fVzwzobeMeZQ"
      },
      "outputs": [],
      "source": [
        "max_text_len=80\n",
        "max_summary_len=10"
      ]
    },
    {
      "cell_type": "code",
      "execution_count": null,
      "metadata": {
        "id": "IGTXda8UMfrK"
      },
      "outputs": [],
      "source": [
        "cleaned_text =np.array(data['cleaned_text'])\n",
        "cleaned_summary=np.array(data['cleaned_summary'])\n",
        "\n",
        "short_text=[]\n",
        "short_summary=[]\n",
        "\n",
        "for i in range(len(cleaned_text)):\n",
        "    if(len(cleaned_summary[i].split())<=max_summary_len and len(cleaned_text[i].split())<=max_text_len):\n",
        "        short_text.append(cleaned_text[i])\n",
        "        short_summary.append(cleaned_summary[i])\n",
        "\n",
        "df=pd.DataFrame({'text':short_text,'summary':short_summary})"
      ]
    },
    {
      "cell_type": "code",
      "execution_count": null,
      "metadata": {
        "id": "dPuYCaIJMlbl"
      },
      "outputs": [],
      "source": [
        "df['summary'] = df['summary'].apply(lambda x : 'sostok '+ x + ' eostok')"
      ]
    },
    {
      "cell_type": "code",
      "execution_count": null,
      "metadata": {
        "colab": {
          "base_uri": "https://localhost:8080/"
        },
        "id": "3stQ1wM0Mms9",
        "outputId": "17a99826-e306-49ba-f522-8bf933db3053"
      },
      "outputs": [
        {
          "output_type": "stream",
          "name": "stdout",
          "text": [
            "Review: bought several vitality canned dog food products found good quality product looks like stew processed meat smells better labrador finicky appreciates product better\n",
            "Summary: sostok good quality dog food eostok\n",
            "\n",
            "\n",
            "Review: product arrived labeled jumbo salted peanuts peanuts actually small sized unsalted sure error vendor intended represent product jumbo\n",
            "Summary: sostok not as advertised eostok\n",
            "\n",
            "\n",
            "Review: confection around centuries light pillowy citrus gelatin nuts case filberts cut tiny squares liberally coated powdered sugar tiny mouthful heaven chewy flavorful highly recommend yummy treat familiar story lewis lion witch wardrobe treat seduces edmund selling brother sisters witch\n",
            "Summary: sostok delight says it all eostok\n",
            "\n",
            "\n",
            "Review: looking secret ingredient robitussin believe found got addition root beer extract ordered made cherry soda flavor medicinal\n",
            "Summary: sostok cough medicine eostok\n",
            "\n",
            "\n",
            "Review: great taffy great price wide assortment yummy taffy delivery quick taffy lover deal\n",
            "Summary: sostok great taffy eostok\n",
            "\n",
            "\n"
          ]
        }
      ],
      "source": [
        "for i in range(5):\n",
        "    print(\"Review:\",df['text'][i])\n",
        "    print(\"Summary:\",df['summary'][i])\n",
        "    print(\"\\n\")"
      ]
    },
    {
      "cell_type": "code",
      "execution_count": null,
      "metadata": {
        "id": "c2W5FVgZMr6H"
      },
      "outputs": [],
      "source": [
        "from sklearn.model_selection import train_test_split\n",
        "x_tr,x_val,y_tr,y_val=train_test_split(np.array(df['text']),np.array(df['summary']),test_size=0.05,random_state=0,shuffle=True)"
      ]
    },
    {
      "cell_type": "code",
      "execution_count": null,
      "metadata": {
        "id": "uOhKJWiQMs8j"
      },
      "outputs": [],
      "source": [
        "x_tokenizer = Tokenizer()\n",
        "x_tokenizer.fit_on_texts(list(x_tr))"
      ]
    },
    {
      "cell_type": "code",
      "execution_count": null,
      "metadata": {
        "colab": {
          "base_uri": "https://localhost:8080/"
        },
        "id": "BWg2uA-xMyGX",
        "outputId": "374e0ffb-bd11-4cce-afc2-0909970da8ed"
      },
      "outputs": [
        {
          "output_type": "stream",
          "name": "stdout",
          "text": [
            "% of rare words in vocabulary: 83.38423946243128\n",
            "Total Coverage of rare words: 44.16568047337278\n"
          ]
        }
      ],
      "source": [
        "thresh=4\n",
        "\n",
        "cnt=0\n",
        "tot_cnt=0\n",
        "freq=0\n",
        "tot_freq=0\n",
        "\n",
        "for key,value in x_tokenizer.word_counts.items():\n",
        "    tot_cnt=tot_cnt+1\n",
        "    tot_freq=tot_freq+value\n",
        "    if(value<thresh):\n",
        "        cnt=cnt+1\n",
        "        freq=freq+value\n",
        "\n",
        "print(\"% of rare words in vocabulary:\",(cnt/tot_cnt)*100)\n",
        "print(\"Total Coverage of rare words:\",(freq/tot_freq)*100)"
      ]
    },
    {
      "cell_type": "code",
      "execution_count": null,
      "metadata": {
        "id": "rRfJWEmPM1vc"
      },
      "outputs": [],
      "source": [
        "#prepare a tokenizer for reviews on training data\n",
        "x_tokenizer = Tokenizer(num_words=tot_cnt-cnt)\n",
        "x_tokenizer.fit_on_texts(list(x_tr))\n",
        "\n",
        "#convert text sequences into integer sequences\n",
        "x_tr_seq    =   x_tokenizer.texts_to_sequences(x_tr)\n",
        "x_val_seq   =   x_tokenizer.texts_to_sequences(x_val)\n",
        "\n",
        "#padding zero upto maximum length\n",
        "x_tr    =   pad_sequences(x_tr_seq,  maxlen=max_text_len, padding='post')\n",
        "x_val   =   pad_sequences(x_val_seq, maxlen=max_text_len, padding='post')\n",
        "\n",
        "#size of vocabulary ( +1 for padding token)\n",
        "x_voc   =  x_tokenizer.num_words + 1"
      ]
    },
    {
      "cell_type": "code",
      "execution_count": null,
      "metadata": {
        "colab": {
          "base_uri": "https://localhost:8080/"
        },
        "id": "1D_urmWbM3Do",
        "outputId": "2a4d6419-25ac-4d5c-84d7-2abb70f09f76"
      },
      "outputs": [
        {
          "output_type": "execute_result",
          "data": {
            "text/plain": [
              "273"
            ]
          },
          "metadata": {},
          "execution_count": 31
        }
      ],
      "source": [
        "x_voc"
      ]
    },
    {
      "cell_type": "code",
      "execution_count": null,
      "metadata": {
        "id": "lU59NJ6IM56_"
      },
      "outputs": [],
      "source": [
        "y_tokenizer = Tokenizer()\n",
        "y_tokenizer.fit_on_texts(list(y_tr))"
      ]
    },
    {
      "cell_type": "code",
      "execution_count": null,
      "metadata": {
        "colab": {
          "base_uri": "https://localhost:8080/"
        },
        "id": "8Z6LIK8zM9Rs",
        "outputId": "55ecbeb3-dded-4b1b-f067-e7f15c80e3cb"
      },
      "outputs": [
        {
          "output_type": "stream",
          "name": "stdout",
          "text": [
            "% of rare words in vocabulary: 93.5374149659864\n",
            "Total Coverage of rare words: 42.462845010615716\n"
          ]
        }
      ],
      "source": [
        "thresh=6\n",
        "\n",
        "cnt=0\n",
        "tot_cnt=0\n",
        "freq=0\n",
        "tot_freq=0\n",
        "\n",
        "for key,value in y_tokenizer.word_counts.items():\n",
        "    tot_cnt=tot_cnt+1\n",
        "    tot_freq=tot_freq+value\n",
        "    if(value<thresh):\n",
        "        cnt=cnt+1\n",
        "        freq=freq+value\n",
        "\n",
        "print(\"% of rare words in vocabulary:\",(cnt/tot_cnt)*100)\n",
        "print(\"Total Coverage of rare words:\",(freq/tot_freq)*100)"
      ]
    },
    {
      "cell_type": "code",
      "execution_count": null,
      "metadata": {
        "id": "po6d421INDDt"
      },
      "outputs": [],
      "source": [
        "#prepare a tokenizer for summaries on training data\n",
        "y_tokenizer = Tokenizer(num_words=tot_cnt-cnt)\n",
        "y_tokenizer.fit_on_texts(list(y_tr))\n",
        "\n",
        "#convert text sequences into integer sequences\n",
        "y_tr_seq    =   y_tokenizer.texts_to_sequences(y_tr)\n",
        "y_val_seq   =   y_tokenizer.texts_to_sequences(y_val)\n",
        "\n",
        "#padding zero upto maximum length\n",
        "y_tr    =   pad_sequences(y_tr_seq, maxlen=max_summary_len, padding='post')\n",
        "y_val   =   pad_sequences(y_val_seq, maxlen=max_summary_len, padding='post')\n",
        "\n",
        "#size of vocabulary\n",
        "y_voc  =   y_tokenizer.num_words +1"
      ]
    },
    {
      "cell_type": "code",
      "execution_count": null,
      "metadata": {
        "colab": {
          "base_uri": "https://localhost:8080/"
        },
        "id": "wyoiYzw-NGJ1",
        "outputId": "e6515545-5cb6-4d2e-af59-6abf09e8e6d7"
      },
      "outputs": [
        {
          "output_type": "execute_result",
          "data": {
            "text/plain": [
              "(173, 173)"
            ]
          },
          "metadata": {},
          "execution_count": 35
        }
      ],
      "source": [
        "y_tokenizer.word_counts['sostok'],len(y_tr)"
      ]
    },
    {
      "cell_type": "code",
      "execution_count": null,
      "metadata": {
        "id": "MLBxAO42NI4N"
      },
      "outputs": [],
      "source": [
        "ind=[]\n",
        "for i in range(len(y_tr)):\n",
        "    cnt=0\n",
        "    for j in y_tr[i]:\n",
        "        if j!=0:\n",
        "            cnt=cnt+1\n",
        "    if(cnt==2):\n",
        "        ind.append(i)\n",
        "\n",
        "y_tr=np.delete(y_tr,ind, axis=0)\n",
        "x_tr=np.delete(x_tr,ind, axis=0)"
      ]
    },
    {
      "cell_type": "code",
      "execution_count": null,
      "metadata": {
        "id": "jQ0v_C24NKQP"
      },
      "outputs": [],
      "source": [
        "ind=[]\n",
        "for i in range(len(y_val)):\n",
        "    cnt=0\n",
        "    for j in y_val[i]:\n",
        "        if j!=0:\n",
        "            cnt=cnt+1\n",
        "    if(cnt==2):\n",
        "        ind.append(i)\n",
        "\n",
        "y_val=np.delete(y_val,ind, axis=0)\n",
        "x_val=np.delete(x_val,ind, axis=0)"
      ]
    },
    {
      "cell_type": "code",
      "execution_count": null,
      "metadata": {
        "colab": {
          "base_uri": "https://localhost:8080/"
        },
        "id": "hCjggJr8NNiB",
        "outputId": "d5d435cd-6abe-4747-f580-6c8cecc492b3"
      },
      "outputs": [
        {
          "output_type": "stream",
          "name": "stdout",
          "text": [
            "Model: \"model\"\n",
            "__________________________________________________________________________________________________\n",
            " Layer (type)                Output Shape                 Param #   Connected to                  \n",
            "==================================================================================================\n",
            " input_1 (InputLayer)        [(None, 80)]                 0         []                            \n",
            "                                                                                                  \n",
            " embedding (Embedding)       (None, 80, 100)              27300     ['input_1[0][0]']             \n",
            "                                                                                                  \n",
            " lstm (LSTM)                 [(None, 80, 300),            481200    ['embedding[0][0]']           \n",
            "                              (None, 300),                                                        \n",
            "                              (None, 300)]                                                        \n",
            "                                                                                                  \n",
            " input_2 (InputLayer)        [(None, None)]               0         []                            \n",
            "                                                                                                  \n",
            " lstm_1 (LSTM)               [(None, 80, 300),            721200    ['lstm[0][0]']                \n",
            "                              (None, 300),                                                        \n",
            "                              (None, 300)]                                                        \n",
            "                                                                                                  \n",
            " embedding_1 (Embedding)     (None, None, 100)            2000      ['input_2[0][0]']             \n",
            "                                                                                                  \n",
            " lstm_2 (LSTM)               [(None, 80, 300),            721200    ['lstm_1[0][0]']              \n",
            "                              (None, 300),                                                        \n",
            "                              (None, 300)]                                                        \n",
            "                                                                                                  \n",
            " lstm_3 (LSTM)               [(None, None, 300),          481200    ['embedding_1[0][0]',         \n",
            "                              (None, 300),                           'lstm_2[0][1]',              \n",
            "                              (None, 300)]                           'lstm_2[0][2]']              \n",
            "                                                                                                  \n",
            " attention_layer (Attention  ((None, None, 300),          180300    ['lstm_2[0][0]',              \n",
            " Layer)                       (None, None, 80))                      'lstm_3[0][0]']              \n",
            "                                                                                                  \n",
            " concat_layer (Concatenate)  (None, None, 600)            0         ['lstm_3[0][0]',              \n",
            "                                                                     'attention_layer[0][0]']     \n",
            "                                                                                                  \n",
            " time_distributed (TimeDist  (None, None, 20)             12020     ['concat_layer[0][0]']        \n",
            " ributed)                                                                                         \n",
            "                                                                                                  \n",
            "==================================================================================================\n",
            "Total params: 2626420 (10.02 MB)\n",
            "Trainable params: 2626420 (10.02 MB)\n",
            "Non-trainable params: 0 (0.00 Byte)\n",
            "__________________________________________________________________________________________________\n"
          ]
        }
      ],
      "source": [
        "from keras import backend as K\n",
        "K.clear_session()\n",
        "\n",
        "latent_dim = 300\n",
        "embedding_dim=100\n",
        "\n",
        "# Encoder\n",
        "encoder_inputs = Input(shape=(max_text_len,))\n",
        "\n",
        "#embedding layer\n",
        "enc_emb =  Embedding(x_voc, embedding_dim,trainable=True)(encoder_inputs)\n",
        "\n",
        "#encoder lstm 1\n",
        "encoder_lstm1 = LSTM(latent_dim,return_sequences=True,return_state=True,dropout=0.4,recurrent_dropout=0.4)\n",
        "encoder_output1, state_h1, state_c1 = encoder_lstm1(enc_emb)\n",
        "\n",
        "#encoder lstm 2\n",
        "encoder_lstm2 = LSTM(latent_dim,return_sequences=True,return_state=True,dropout=0.4,recurrent_dropout=0.4)\n",
        "encoder_output2, state_h2, state_c2 = encoder_lstm2(encoder_output1)\n",
        "\n",
        "#encoder lstm 3\n",
        "encoder_lstm3=LSTM(latent_dim, return_state=True, return_sequences=True,dropout=0.4,recurrent_dropout=0.4)\n",
        "encoder_outputs, state_h, state_c= encoder_lstm3(encoder_output2)\n",
        "\n",
        "# Set up the decoder, using `encoder_states` as initial state.\n",
        "decoder_inputs = Input(shape=(None,))\n",
        "\n",
        "#embedding layer\n",
        "dec_emb_layer = Embedding(y_voc, embedding_dim,trainable=True)\n",
        "dec_emb = dec_emb_layer(decoder_inputs)\n",
        "\n",
        "decoder_lstm = LSTM(latent_dim, return_sequences=True, return_state=True,dropout=0.4,recurrent_dropout=0.2)\n",
        "decoder_outputs,decoder_fwd_state, decoder_back_state = decoder_lstm(dec_emb,initial_state=[state_h, state_c])\n",
        "\n",
        "# Attention layer\n",
        "attn_layer = AttentionLayer(name='attention_layer')\n",
        "attn_out, attn_states = attn_layer([encoder_outputs, decoder_outputs])\n",
        "\n",
        "# Concat attention input and decoder LSTM output\n",
        "decoder_concat_input = Concatenate(axis=-1, name='concat_layer')([decoder_outputs, attn_out])\n",
        "\n",
        "#dense layer\n",
        "decoder_dense =  TimeDistributed(Dense(y_voc, activation='softmax'))\n",
        "decoder_outputs = decoder_dense(decoder_concat_input)\n",
        "\n",
        "# Define the model\n",
        "model = Model([encoder_inputs, decoder_inputs], decoder_outputs)\n",
        "\n",
        "model.summary()"
      ]
    },
    {
      "cell_type": "code",
      "execution_count": null,
      "metadata": {
        "id": "1tg00KjzNW91"
      },
      "outputs": [],
      "source": [
        "model.compile(optimizer='rmsprop', loss='sparse_categorical_crossentropy')"
      ]
    },
    {
      "cell_type": "code",
      "execution_count": null,
      "metadata": {
        "id": "EUMiW05gNbMb"
      },
      "outputs": [],
      "source": [
        "es = [EarlyStopping(monitor='val_loss', mode='min', verbose=1,patience=2),\n",
        "      ModelCheckpoint('./MyModel_tf',monitor='val_loss', verbose=1,\n",
        "                      save_best_only=True, mode='min', save_weights_only = False)]"
      ]
    },
    {
      "cell_type": "code",
      "execution_count": null,
      "metadata": {
        "colab": {
          "base_uri": "https://localhost:8080/"
        },
        "id": "HHAAVoKsNgT4",
        "outputId": "e4913a1d-e831-47f7-bd1d-edd3acd05eb8"
      },
      "outputs": [
        {
          "output_type": "stream",
          "name": "stdout",
          "text": [
            "Epoch 1/50\n",
            "1/1 [==============================] - ETA: 0s - loss: 1.9741\n",
            "Epoch 1: val_loss improved from 2.00576 to 1.36518, saving model to ./MyModel_tf\n",
            "1/1 [==============================] - 19s 19s/step - loss: 1.9741 - val_loss: 1.3652\n",
            "Epoch 2/50\n",
            "1/1 [==============================] - ETA: 0s - loss: 1.3733\n",
            "Epoch 2: val_loss improved from 1.36518 to 1.09869, saving model to ./MyModel_tf\n",
            "1/1 [==============================] - 19s 19s/step - loss: 1.3733 - val_loss: 1.0987\n",
            "Epoch 3/50\n",
            "1/1 [==============================] - ETA: 0s - loss: 1.0760\n",
            "Epoch 3: val_loss improved from 1.09869 to 1.01272, saving model to ./MyModel_tf\n",
            "1/1 [==============================] - 17s 17s/step - loss: 1.0760 - val_loss: 1.0127\n",
            "Epoch 4/50\n",
            "1/1 [==============================] - ETA: 0s - loss: 0.9867\n",
            "Epoch 4: val_loss improved from 1.01272 to 0.98154, saving model to ./MyModel_tf\n",
            "1/1 [==============================] - 22s 22s/step - loss: 0.9867 - val_loss: 0.9815\n",
            "Epoch 5/50\n",
            "1/1 [==============================] - ETA: 0s - loss: 0.9409\n",
            "Epoch 5: val_loss improved from 0.98154 to 0.94824, saving model to ./MyModel_tf\n",
            "1/1 [==============================] - 20s 20s/step - loss: 0.9409 - val_loss: 0.9482\n",
            "Epoch 6/50\n",
            "1/1 [==============================] - ETA: 0s - loss: 0.9156\n",
            "Epoch 6: val_loss improved from 0.94824 to 0.93426, saving model to ./MyModel_tf\n",
            "1/1 [==============================] - 17s 17s/step - loss: 0.9156 - val_loss: 0.9343\n",
            "Epoch 7/50\n",
            "1/1 [==============================] - ETA: 0s - loss: 0.8969\n",
            "Epoch 7: val_loss improved from 0.93426 to 0.91197, saving model to ./MyModel_tf\n",
            "1/1 [==============================] - 20s 20s/step - loss: 0.8969 - val_loss: 0.9120\n",
            "Epoch 8/50\n",
            "1/1 [==============================] - ETA: 0s - loss: 0.8831\n",
            "Epoch 8: val_loss improved from 0.91197 to 0.90529, saving model to ./MyModel_tf\n",
            "1/1 [==============================] - 18s 18s/step - loss: 0.8831 - val_loss: 0.9053\n",
            "Epoch 9/50\n",
            "1/1 [==============================] - ETA: 0s - loss: 0.8709\n",
            "Epoch 9: val_loss improved from 0.90529 to 0.88725, saving model to ./MyModel_tf\n",
            "1/1 [==============================] - 20s 20s/step - loss: 0.8709 - val_loss: 0.8872\n",
            "Epoch 10/50\n",
            "1/1 [==============================] - ETA: 0s - loss: 0.8607\n",
            "Epoch 10: val_loss improved from 0.88725 to 0.88687, saving model to ./MyModel_tf\n",
            "1/1 [==============================] - 17s 17s/step - loss: 0.8607 - val_loss: 0.8869\n",
            "Epoch 11/50\n",
            "1/1 [==============================] - ETA: 0s - loss: 0.8515\n",
            "Epoch 11: val_loss improved from 0.88687 to 0.86998, saving model to ./MyModel_tf\n",
            "1/1 [==============================] - 18s 18s/step - loss: 0.8515 - val_loss: 0.8700\n",
            "Epoch 12/50\n",
            "1/1 [==============================] - ETA: 0s - loss: 0.8465\n",
            "Epoch 12: val_loss did not improve from 0.86998\n",
            "1/1 [==============================] - 7s 7s/step - loss: 0.8465 - val_loss: 0.8874\n",
            "Epoch 13/50\n",
            "1/1 [==============================] - ETA: 0s - loss: 0.8431\n",
            "Epoch 13: val_loss improved from 0.86998 to 0.86478, saving model to ./MyModel_tf\n",
            "1/1 [==============================] - 17s 17s/step - loss: 0.8431 - val_loss: 0.8648\n",
            "Epoch 14/50\n",
            "1/1 [==============================] - ETA: 0s - loss: 0.8539\n",
            "Epoch 14: val_loss did not improve from 0.86478\n",
            "1/1 [==============================] - 6s 6s/step - loss: 0.8539 - val_loss: 0.9324\n",
            "Epoch 15/50\n",
            "1/1 [==============================] - ETA: 0s - loss: 0.8680\n",
            "Epoch 15: val_loss did not improve from 0.86478\n",
            "1/1 [==============================] - 6s 6s/step - loss: 0.8680 - val_loss: 0.9099\n",
            "Epoch 15: early stopping\n"
          ]
        }
      ],
      "source": [
        "history=model.fit([x_tr,y_tr[:,:-1]], y_tr.reshape(y_tr.shape[0],y_tr.shape[1], 1)[:,1:] ,epochs=50,callbacks=[es],batch_size=512, validation_data=([x_val,y_val[:,:-1]], y_val.reshape(y_val.shape[0],y_val.shape[1], 1)[:,1:]))"
      ]
    },
    {
      "cell_type": "code",
      "execution_count": null,
      "metadata": {
        "id": "CxeCoD_DNj4c",
        "colab": {
          "base_uri": "https://localhost:8080/"
        },
        "outputId": "905abf64-be5c-46dc-b709-63c22d0d8899"
      },
      "outputs": [
        {
          "output_type": "stream",
          "name": "stdout",
          "text": [
            "Saved model to disk\n"
          ]
        }
      ],
      "source": [
        "# serialize model to JSON\n",
        "model_json = model.to_json()\n",
        "with open(\"summary.json\", \"w\") as json_file:\n",
        "    json_file.write(model_json)\n",
        "# serialize weights to HDF5\n",
        "model.save_weights(\"summary.h5\")\n",
        "print(\"Saved model to disk\")"
      ]
    },
    {
      "cell_type": "code",
      "execution_count": null,
      "metadata": {
        "id": "PTPirsE_NlMR",
        "colab": {
          "base_uri": "https://localhost:8080/",
          "height": 430
        },
        "outputId": "f11bcc17-8ecf-4264-f2ec-20ad7a6d261b"
      },
      "outputs": [
        {
          "output_type": "display_data",
          "data": {
            "text/plain": [
              "<Figure size 640x480 with 1 Axes>"
            ],
            "image/png": "[encoded data removed]"
          },
          "metadata": {}
        }
      ],
      "source": [
        "from matplotlib import pyplot\n",
        "pyplot.plot(history.history['loss'], label='train')\n",
        "pyplot.plot(history.history['val_loss'], label='test')\n",
        "pyplot.legend()\n",
        "pyplot.show()"
      ]
    },
    {
      "cell_type": "code",
      "execution_count": null,
      "metadata": {
        "id": "oqmADHAmNoO4"
      },
      "outputs": [],
      "source": [
        "reverse_target_word_index=y_tokenizer.index_word\n",
        "reverse_source_word_index=x_tokenizer.index_word\n",
        "target_word_index=y_tokenizer.word_index"
      ]
    },
    {
      "cell_type": "code",
      "execution_count": null,
      "metadata": {
        "id": "fFK_ZV1kNq3L"
      },
      "outputs": [],
      "source": [
        "# Encode the input sequence to get the feature vector\n",
        "encoder_model = Model(inputs=encoder_inputs,outputs=[encoder_outputs, state_h, state_c])\n",
        "\n",
        "# Decoder setup\n",
        "# Below tensors will hold the states of the previous time step\n",
        "decoder_state_input_h = Input(shape=(latent_dim,))\n",
        "decoder_state_input_c = Input(shape=(latent_dim,))\n",
        "decoder_hidden_state_input = Input(shape=(max_text_len,latent_dim))\n",
        "\n",
        "# Get the embeddings of the decoder sequence\n",
        "dec_emb2= dec_emb_layer(decoder_inputs)\n",
        "# To predict the next word in the sequence, set the initial states to the states from the previous time step\n",
        "decoder_outputs2, state_h2, state_c2 = decoder_lstm(dec_emb2, initial_state=[decoder_state_input_h, decoder_state_input_c])\n",
        "\n",
        "#attention inference\n",
        "attn_out_inf, attn_states_inf = attn_layer([decoder_hidden_state_input, decoder_outputs2])\n",
        "decoder_inf_concat = Concatenate(axis=-1, name='concat')([decoder_outputs2, attn_out_inf])\n",
        "\n",
        "# A dense softmax layer to generate prob dist. over the target vocabulary\n",
        "decoder_outputs2 = decoder_dense(decoder_inf_concat)\n",
        "\n",
        "# Final decoder model\n",
        "decoder_model = Model(\n",
        "    [decoder_inputs] + [decoder_hidden_state_input,decoder_state_input_h, decoder_state_input_c],\n",
        "    [decoder_outputs2] + [state_h2, state_c2])"
      ]
    },
    {
      "cell_type": "code",
      "execution_count": null,
      "metadata": {
        "id": "yYfHcpyvNv8T"
      },
      "outputs": [],
      "source": [
        "def decode_sequence(input_seq):\n",
        "    # Encode the input as state vectors.\n",
        "    e_out, e_h, e_c = encoder_model.predict(input_seq)\n",
        "\n",
        "    # Generate empty target sequence of length 1.\n",
        "    target_seq = np.zeros((1,1))\n",
        "\n",
        "    # Populate the first word of target sequence with the start word.\n",
        "    target_seq[0, 0] = target_word_index['sostok']\n",
        "\n",
        "    stop_condition = False\n",
        "    decoded_sentence = ''\n",
        "    while not stop_condition:\n",
        "\n",
        "        output_tokens, h, c = decoder_model.predict([target_seq] + [e_out, e_h, e_c])\n",
        "\n",
        "        # Sample a token\n",
        "        sampled_token_index = np.argmax(output_tokens[0, -1, :])\n",
        "        sampled_token = reverse_target_word_index[sampled_token_index]\n",
        "\n",
        "        if(sampled_token!='eostok'):\n",
        "            decoded_sentence += ' '+sampled_token\n",
        "\n",
        "        # Exit condition: either hit max length or find stop word.\n",
        "        if (sampled_token == 'eostok'  or len(decoded_sentence.split()) >= (max_summary_len-1)):\n",
        "            stop_condition = True\n",
        "\n",
        "        # Update the target sequence (of length 1).\n",
        "        target_seq = np.zeros((1,1))\n",
        "        target_seq[0, 0] = sampled_token_index\n",
        "\n",
        "        # Update internal states\n",
        "        e_h, e_c = h, c\n",
        "\n",
        "    return decoded_sentence"
      ]
    },
    {
      "cell_type": "code",
      "execution_count": null,
      "metadata": {
        "id": "nQgnR8hWN3Lg"
      },
      "outputs": [],
      "source": [
        "def seq2summary(input_seq):\n",
        "    newString=''\n",
        "    for i in input_seq:\n",
        "        if((i!=0 and i!=target_word_index['sostok']) and i!=target_word_index['eostok']):\n",
        "            newString=newString+reverse_target_word_index[i]+' '\n",
        "    return newString\n",
        "\n",
        "def seq2text(input_seq):\n",
        "    newString=''\n",
        "    for i in input_seq:\n",
        "        if(i!=0):\n",
        "            newString=newString+reverse_source_word_index[i]+' '\n",
        "    return newString"
      ]
    },
    {
      "cell_type": "code",
      "execution_count": null,
      "metadata": {
        "id": "nS7qczoRN52v",
        "colab": {
          "base_uri": "https://localhost:8080/"
        },
        "outputId": "90e8cf47-8975-4fa9-98e2-cc96a00e9a71"
      },
      "outputs": [
        {
          "output_type": "stream",
          "name": "stdout",
          "text": [
            "Review: one cats allergic one eat much better vet soft dry food also \n",
            "Original summary: food for \n",
            "1/1 [==============================] - 1s 881ms/step\n",
            "1/1 [==============================] - 0s 477ms/step\n",
            "Predicted summary: \n",
            "\n",
            "\n",
            "Review: looking less licorice sure try soft easy get summer etc love mix chocolate nice snack great item great price highly recommend \n",
            "Original summary: great for the \n",
            "1/1 [==============================] - 0s 250ms/step\n",
            "1/1 [==============================] - 0s 42ms/step\n",
            "Predicted summary: \n",
            "\n",
            "\n",
            "Review: found much tuna excellent quality need put believe little flavor \n",
            "Original summary: taste \n",
            "1/1 [==============================] - 0s 240ms/step\n",
            "1/1 [==============================] - 0s 27ms/step\n",
            "Predicted summary: \n",
            "\n",
            "\n",
            "Review: bit tastes might taste like spicy food good flavor find case flavor \n",
            "Original summary: not for \n",
            "1/1 [==============================] - 0s 234ms/step\n",
            "1/1 [==============================] - 0s 28ms/step\n",
            "Predicted summary: \n",
            "\n",
            "\n",
            "Review: buying year old cat time buying real cat food super found pet store sure brands good one try first great purchase cat past soft loved taste even highly recommend brand friends family \n",
            "Original summary: best food \n",
            "1/1 [==============================] - 0s 264ms/step\n",
            "1/1 [==============================] - 0s 25ms/step\n",
            "Predicted summary: \n",
            "\n",
            "\n",
            "Review: great food love one food real well really good product dogs eat less almost regular perfect \n",
            "Original summary: great food \n",
            "1/1 [==============================] - 0s 235ms/step\n",
            "1/1 [==============================] - 0s 27ms/step\n",
            "Predicted summary: \n",
            "\n",
            "\n",
            "Review: smaller unfortunately taste like banana even taste good stuff trying \n",
            "Original summary: not \n",
            "1/1 [==============================] - 0s 222ms/step\n",
            "1/1 [==============================] - 0s 24ms/step\n",
            "Predicted summary: \n",
            "\n",
            "\n",
            "Review: know cannot make tea good know never tea sweet sweet tastes \n",
            "Original summary: is the best \n",
            "1/1 [==============================] - 0s 253ms/step\n",
            "1/1 [==============================] - 0s 24ms/step\n",
            "Predicted summary: \n",
            "\n",
            "\n",
            "Review: variety packs taste great every morning per meal buying stuff maple brown sugar apples cinnamon regular get thing taste great water small water size taste really good sure convenient healthy excellent quality \n",
            "Original summary: not tastes great \n",
            "1/1 [==============================] - 0s 260ms/step\n",
            "1/1 [==============================] - 0s 25ms/step\n",
            "Predicted summary: \n",
            "\n",
            "\n",
            "Review: day bought product tuna tomato combination delicious one many order amazon every see combination like one good tuna like many people product \n",
            "Original summary: tastes \n",
            "1/1 [==============================] - 0s 290ms/step\n",
            "1/1 [==============================] - 0s 25ms/step\n",
            "Predicted summary: \n",
            "\n",
            "\n",
            "Review: great taffy great price yummy taffy delivery taffy deal \n",
            "Original summary: great \n",
            "1/1 [==============================] - 0s 244ms/step\n",
            "1/1 [==============================] - 0s 25ms/step\n",
            "Predicted summary: \n",
            "\n",
            "\n",
            "Review: arrived slightly would however company \n",
            "Original summary: great \n",
            "1/1 [==============================] - 0s 366ms/step\n",
            "1/1 [==============================] - 0s 46ms/step\n",
            "Predicted summary: \n",
            "\n",
            "\n",
            "Review: oatmeal good soft like oats way go \n",
            "Original summary: not it \n",
            "1/1 [==============================] - 0s 408ms/step\n",
            "1/1 [==============================] - 0s 37ms/step\n",
            "Predicted summary: \n",
            "\n",
            "\n",
            "Review: love count like apple products item back shipping \n",
            "Original summary: taste it is \n",
            "1/1 [==============================] - 0s 419ms/step\n",
            "1/1 [==============================] - 0s 36ms/step\n",
            "Predicted summary: \n",
            "\n",
            "\n",
            "Review: cats dry cat food always dry wish would quality food dry food two year old cats two year old cats good quality dry foods eat purchased looking several holistic select one would eat cats recommend trying holistic select good quality food \n",
            "Original summary: and \n",
            "1/1 [==============================] - 0s 378ms/step\n",
            "1/1 [==============================] - 0s 40ms/step\n",
            "Predicted summary: \n",
            "\n",
            "\n",
            "Review: bears good tasty high quality bears even little local candy store stuff packs bags deal probably pounds things \n",
            "Original summary: great \n",
            "1/1 [==============================] - 0s 447ms/step\n",
            "1/1 [==============================] - 0s 36ms/step\n",
            "Predicted summary: \n",
            "\n",
            "\n",
            "Review: glad amazon hard time size need door great deal price \n",
            "Original summary: great for the \n",
            "1/1 [==============================] - 0s 424ms/step\n",
            "1/1 [==============================] - 0s 46ms/step\n",
            "Predicted summary: \n",
            "\n",
            "\n",
            "Review: purchased mango flavor take like mango unfortunately almost like licorice sports products come like taste products tried mango flavor one least tasted bad enough bad taste every take \n",
            "Original summary: taste is not good \n",
            "1/1 [==============================] - 0s 240ms/step\n",
            "1/1 [==============================] - 0s 26ms/step\n",
            "Predicted summary: \n",
            "\n",
            "\n",
            "Review: bought coffee much cheaper well healthy taste good actually worth take less expensive similar coffee product \n",
            "Original summary: not for \n",
            "1/1 [==============================] - 0s 239ms/step\n",
            "1/1 [==============================] - 0s 24ms/step\n",
            "Predicted summary: \n",
            "\n",
            "\n",
            "Review: first bought love first local even better ones going order six pack one go \n",
            "Original summary: is \n",
            "1/1 [==============================] - 0s 250ms/step\n",
            "1/1 [==============================] - 0s 24ms/step\n",
            "Predicted summary: \n",
            "\n",
            "\n",
            "Review: love tasty think buying packs bags going getting bag bag use save several product love save \n",
            "Original summary: love \n",
            "1/1 [==============================] - 0s 237ms/step\n",
            "1/1 [==============================] - 0s 27ms/step\n",
            "Predicted summary: \n",
            "\n",
            "\n",
            "Review: food great dogs year old soft ever get food good amazon shipping \n",
            "Original summary: good \n",
            "1/1 [==============================] - 0s 239ms/step\n",
            "1/1 [==============================] - 0s 24ms/step\n",
            "Predicted summary: \n",
            "\n",
            "\n",
            "Review: good get box purchase price less \n",
            "Original summary: for \n",
            "1/1 [==============================] - 0s 254ms/step\n",
            "1/1 [==============================] - 0s 25ms/step\n",
            "Predicted summary: \n",
            "\n",
            "\n",
            "Review: good instant oatmeal best oatmeal brand sugar high better say sugar better great morning time make mccann cut oats apple cinnamon best maple brown sugar regular good actually three flavors \n",
            "Original summary: good \n",
            "1/1 [==============================] - 0s 243ms/step\n",
            "1/1 [==============================] - 0s 25ms/step\n",
            "Predicted summary: \n",
            "\n",
            "\n",
            "Review: best ever made ginger like real ginger spicy perfect sugar worth getting use ginger \n",
            "Original summary: tastes \n",
            "1/1 [==============================] - 0s 233ms/step\n",
            "1/1 [==============================] - 0s 25ms/step\n",
            "Predicted summary: \n",
            "\n",
            "\n",
            "Review: holistic vet recommended brands tried cats best soft less cats eat found stores highly recommend holistic select \n",
            "Original summary: love it \n",
            "1/1 [==============================] - 0s 234ms/step\n",
            "1/1 [==============================] - 0s 24ms/step\n",
            "Predicted summary: \n",
            "\n",
            "\n",
            "Review: got try one actually tastes pretty good \n",
            "Original summary: tastes good \n",
            "1/1 [==============================] - 0s 233ms/step\n",
            "1/1 [==============================] - 0s 24ms/step\n",
            "Predicted summary: \n",
            "\n",
            "\n",
            "Review: purchase definitely \n",
            "Original summary: love it \n",
            "1/1 [==============================] - 0s 244ms/step\n",
            "1/1 [==============================] - 0s 24ms/step\n",
            "Predicted summary: \n",
            "\n",
            "\n",
            "Review: trying brands cheaper brands ginger worth never \n",
            "Original summary: the best \n",
            "1/1 [==============================] - 0s 232ms/step\n",
            "1/1 [==============================] - 0s 24ms/step\n",
            "Predicted summary: \n",
            "\n",
            "\n",
            "Review: really like mccann cut oats find tastes much better grocery store brands convenient eating oatmeal good thing \n",
            "Original summary: great taste and \n",
            "1/1 [==============================] - 0s 236ms/step\n",
            "1/1 [==============================] - 0s 25ms/step\n",
            "Predicted summary: \n",
            "\n",
            "\n",
            "Review: cat food recommended vet year old cat food problems eat much since seems eating price since know add anyone problems cats see cat food \n",
            "Original summary: food for \n",
            "1/1 [==============================] - 0s 266ms/step\n",
            "1/1 [==============================] - 0s 24ms/step\n",
            "Predicted summary: \n",
            "\n",
            "\n",
            "Review: great product taste great works natural \n",
            "Original summary: tea \n",
            "1/1 [==============================] - 0s 245ms/step\n",
            "1/1 [==============================] - 0s 24ms/step\n",
            "Predicted summary: \n",
            "\n",
            "\n",
            "Review: allergies dog foods buy anywhere food problems food works allergies dog loves food \n",
            "Original summary: great dog food love it \n",
            "1/1 [==============================] - 0s 243ms/step\n",
            "1/1 [==============================] - 0s 26ms/step\n",
            "Predicted summary: \n",
            "\n",
            "\n",
            "Review: never brand trying really thought bit better brands less \n",
            "Original summary: good \n",
            "1/1 [==============================] - 0s 238ms/step\n",
            "1/1 [==============================] - 0s 25ms/step\n",
            "Predicted summary: \n",
            "\n",
            "\n",
            "Review: brand tuna gave tuna tastes like good quality found tomato flavor bit better something pack still great low low meal \n",
            "Original summary: not \n",
            "1/1 [==============================] - 0s 235ms/step\n",
            "1/1 [==============================] - 0s 26ms/step\n",
            "Predicted summary: \n",
            "\n",
            "\n",
            "Review: love flavor ramen eat flavors taste home price amazon bad still cheaper case grocery store \n",
            "Original summary: tastes great is \n",
            "1/1 [==============================] - 0s 249ms/step\n",
            "1/1 [==============================] - 0s 24ms/step\n",
            "Predicted summary: \n",
            "\n",
            "\n",
            "Review: around case cut sugar chewy highly recommend yummy treat treat \n",
            "Original summary: it \n",
            "1/1 [==============================] - 0s 239ms/step\n",
            "1/1 [==============================] - 0s 27ms/step\n",
            "Predicted summary: \n",
            "\n",
            "\n",
            "Review: one best ever tasted fresh great delivery quality try \n",
            "Original summary: the best tea \n",
            "1/1 [==============================] - 0s 236ms/step\n",
            "1/1 [==============================] - 0s 25ms/step\n",
            "Predicted summary: \n",
            "\n",
            "\n",
            "Review: find best food cat excellent food also holistic put last best thing cat loved old food would eat holistic select \n",
            "Original summary: great food \n",
            "1/1 [==============================] - 0s 250ms/step\n",
            "1/1 [==============================] - 0s 28ms/step\n",
            "Predicted summary: \n",
            "\n",
            "\n",
            "Review: know combination hot sauce one kind bottle back home us away could find anywhere case sauce love hot sauce really love hot sauce want sauce bottle taste never want use sauce \n",
            "Original summary: the best the \n",
            "1/1 [==============================] - 0s 235ms/step\n",
            "1/1 [==============================] - 0s 25ms/step\n",
            "Predicted summary: \n",
            "\n",
            "\n",
            "Review: made chocolate brown sugar chocolate taste reviews friends could texture nice chewy made regular high smaller highly recommend even thing make \n",
            "Original summary: for \n",
            "1/1 [==============================] - 0s 231ms/step\n",
            "1/1 [==============================] - 0s 24ms/step\n",
            "Predicted summary: \n",
            "\n",
            "\n",
            "Review: great purchased loved much would eat \n",
            "Original summary: great \n",
            "1/1 [==============================] - 0s 238ms/step\n",
            "1/1 [==============================] - 0s 26ms/step\n",
            "Predicted summary: \n",
            "\n",
            "\n",
            "Review: little tasty usually eat lunch things eat lunch find problem sugar free great tasty enough almost think lunch good buy would highly recommend mints \n",
            "Original summary: great for \n",
            "1/1 [==============================] - 0s 246ms/step\n",
            "1/1 [==============================] - 0s 39ms/step\n",
            "Predicted summary: \n",
            "\n",
            "\n",
            "Review: love spicy ramen thing go away like sure healthy buy way cheaper amazon \n",
            "Original summary: it \n",
            "1/1 [==============================] - 0s 394ms/step\n",
            "1/1 [==============================] - 0s 36ms/step\n",
            "Predicted summary: \n",
            "\n",
            "\n",
            "Review: year old cat dry food combination food combination seems another dry food cats enjoy food well expensive seems best \n",
            "Original summary: good for \n",
            "1/1 [==============================] - 0s 391ms/step\n",
            "1/1 [==============================] - 0s 35ms/step\n",
            "Predicted summary: \n",
            "\n",
            "\n",
            "Review: perfect size salt love well \n",
            "Original summary: great \n",
            "1/1 [==============================] - 0s 403ms/step\n",
            "1/1 [==============================] - 0s 36ms/step\n",
            "Predicted summary: \n",
            "\n",
            "\n",
            "Review: tastes great love product however wish came hard product packaging \n",
            "Original summary: tastes great \n",
            "1/1 [==============================] - 0s 418ms/step\n",
            "1/1 [==============================] - 0s 45ms/step\n",
            "Predicted summary: \n",
            "\n",
            "\n",
            "Review: bought different flavors one getting \n",
            "Original summary: great \n",
            "1/1 [==============================] - 0s 404ms/step\n",
            "1/1 [==============================] - 0s 40ms/step\n",
            "Predicted summary: \n",
            "\n",
            "\n",
            "Review: try made little bit time little sweet really flavor going try \n",
            "Original summary: is good \n",
            "1/1 [==============================] - 0s 381ms/step\n",
            "1/1 [==============================] - 0s 24ms/step\n",
            "Predicted summary: \n",
            "\n",
            "\n",
            "Review: taste really good different brand similar taste texture summer packaging packs like chocolate food order buy enough last \n",
            "Original summary: taste great \n",
            "1/1 [==============================] - 0s 231ms/step\n",
            "1/1 [==============================] - 0s 24ms/step\n",
            "Predicted summary: \n",
            "\n",
            "\n",
            "Review: wonderful beans taste delicious coffee beans home friends like much \n",
            "Original summary: love it \n",
            "1/1 [==============================] - 0s 253ms/step\n",
            "1/1 [==============================] - 0s 24ms/step\n",
            "Predicted summary: \n",
            "\n",
            "\n",
            "Review: natural balance dog food dogs dog foods past recommend natural balance free since allergic since also different size smaller dogs \n",
            "Original summary: good dog food \n",
            "1/1 [==============================] - 0s 237ms/step\n",
            "1/1 [==============================] - 0s 24ms/step\n",
            "Predicted summary: \n",
            "\n",
            "\n",
            "Review: love use enough flavor even used reviews definitely worth price super super easy love \n",
            "Original summary: great \n",
            "1/1 [==============================] - 0s 233ms/step\n",
            "1/1 [==============================] - 0s 26ms/step\n",
            "Predicted summary: \n",
            "\n",
            "\n",
            "Review: love eating good looking sweet like fresh take time eating \n",
            "Original summary: taste \n",
            "1/1 [==============================] - 0s 252ms/step\n",
            "1/1 [==============================] - 0s 25ms/step\n",
            "Predicted summary: \n",
            "\n",
            "\n",
            "Review: mix vet recommended food really always buy amazon cheaper free shipping \n",
            "Original summary: great for \n",
            "1/1 [==============================] - 0s 232ms/step\n",
            "1/1 [==============================] - 0s 24ms/step\n",
            "Predicted summary: \n",
            "\n",
            "\n",
            "Review: years used buy could find anywhere great \n",
            "Original summary: great \n",
            "1/1 [==============================] - 0s 239ms/step\n",
            "1/1 [==============================] - 0s 31ms/step\n",
            "Predicted summary: \n",
            "\n",
            "\n",
            "Review: tea long time used purchase office glad buy amazon drink tea day like drink coffee wonderful taste \n",
            "Original summary: tea \n",
            "1/1 [==============================] - 0s 239ms/step\n",
            "1/1 [==============================] - 0s 24ms/step\n",
            "Predicted summary: \n",
            "\n",
            "\n",
            "Review: three dogs love food bought one dogs food allergies works great hot problems love right door free shipping \n",
            "Original summary: great food \n",
            "1/1 [==============================] - 0s 238ms/step\n",
            "1/1 [==============================] - 0s 26ms/step\n",
            "Predicted summary: \n",
            "\n",
            "\n",
            "Review: cats well dry cat food definitely much less great fast one amazon \n",
            "Original summary: food \n",
            "1/1 [==============================] - 0s 255ms/step\n",
            "1/1 [==============================] - 0s 26ms/step\n",
            "Predicted summary: \n",
            "\n",
            "\n",
            "Review: taffy great flavors soft chewy candy well none candies expensive would highly recommend candy loved \n",
            "Original summary: great good the \n",
            "1/1 [==============================] - 0s 231ms/step\n",
            "1/1 [==============================] - 0s 24ms/step\n",
            "Predicted summary: \n",
            "\n",
            "\n",
            "Review: like perfect snack mix unfortunately arrived chocolate still ever since taste good chocolate order see store would \n",
            "Original summary: good \n",
            "1/1 [==============================] - 0s 235ms/step\n",
            "1/1 [==============================] - 0s 24ms/step\n",
            "Predicted summary: \n",
            "\n",
            "\n",
            "Review: awesome dog food however food different glad natural balance try find best pet \n",
            "Original summary: my \n",
            "1/1 [==============================] - 0s 246ms/step\n",
            "1/1 [==============================] - 0s 25ms/step\n",
            "Predicted summary: \n",
            "\n",
            "\n",
            "Review: one best found long time away variety pack two come worth \n",
            "Original summary: love the \n",
            "1/1 [==============================] - 0s 235ms/step\n",
            "1/1 [==============================] - 0s 29ms/step\n",
            "Predicted summary: \n",
            "\n",
            "\n",
            "Review: good flavor came fresh delicious love twizzlers \n",
            "Original summary: and \n",
            "1/1 [==============================] - 0s 239ms/step\n",
            "1/1 [==============================] - 0s 25ms/step\n",
            "Predicted summary: \n",
            "\n",
            "\n",
            "Review: item banana like banana smaller also item packaging great banana come shipping \n",
            "Original summary: not \n",
            "1/1 [==============================] - 0s 233ms/step\n",
            "1/1 [==============================] - 0s 24ms/step\n",
            "Predicted summary: \n",
            "\n",
            "\n",
            "Review: bought several dog food products found good quality product like better product better \n",
            "Original summary: good dog food \n",
            "1/1 [==============================] - 0s 237ms/step\n",
            "1/1 [==============================] - 0s 25ms/step\n",
            "Predicted summary: \n",
            "\n",
            "\n",
            "Review: purchased perfect small bags candy purchased want small bags would purchase bag \n",
            "Original summary: great \n",
            "1/1 [==============================] - 0s 254ms/step\n",
            "1/1 [==============================] - 0s 24ms/step\n",
            "Predicted summary: \n",
            "\n",
            "\n",
            "Review: got free bottle mix bought tried loved buy reviews well hot hot nice perfect us \n",
            "Original summary: and good for \n",
            "1/1 [==============================] - 0s 224ms/step\n",
            "1/1 [==============================] - 0s 25ms/step\n",
            "Predicted summary: \n",
            "\n",
            "\n",
            "Review: cats eating two years got new bag food different tried new food first put food similar reviews past unfortunately need find new food cats eat \n",
            "Original summary: my not the food \n",
            "1/1 [==============================] - 0s 243ms/step\n",
            "1/1 [==============================] - 0s 24ms/step\n",
            "Predicted summary: \n",
            "\n",
            "\n",
            "Review: really loved spicy flavor found usually used might like hot hot foods might enough \n",
            "Original summary: great \n",
            "1/1 [==============================] - 0s 250ms/step\n",
            "1/1 [==============================] - 0s 26ms/step\n",
            "Predicted summary: \n",
            "\n",
            "\n",
            "Review: love love green tea hard find price usually get many boxes definitely order green tea \n",
            "Original summary: tea \n",
            "1/1 [==============================] - 0s 237ms/step\n",
            "1/1 [==============================] - 0s 25ms/step\n",
            "Predicted summary: \n",
            "\n",
            "\n",
            "Review: morning coffee came try use say trying apple found made water milk goes good coffee take day least \n",
            "Original summary: good the \n",
            "1/1 [==============================] - 0s 264ms/step\n",
            "1/1 [==============================] - 0s 25ms/step\n",
            "Predicted summary: \n",
            "\n",
            "\n",
            "Review: product well long tried flavors really like flavor taste actually like use products really like product \n",
            "Original summary: great \n",
            "1/1 [==============================] - 0s 231ms/step\n",
            "1/1 [==============================] - 0s 24ms/step\n",
            "Predicted summary: \n",
            "\n",
            "\n",
            "Review: ordered two two arrived fresh good size use best ever tasted soft really good taste great time really \n",
            "Original summary: best \n",
            "1/1 [==============================] - 0s 234ms/step\n",
            "1/1 [==============================] - 0s 25ms/step\n",
            "Predicted summary: \n",
            "\n",
            "\n",
            "Review: product arrived actually small sure product \n",
            "Original summary: not \n",
            "1/1 [==============================] - 0s 386ms/step\n",
            "1/1 [==============================] - 0s 42ms/step\n",
            "Predicted summary: \n",
            "\n",
            "\n",
            "Review: got per price local grocery stores spicy flavors things great snack office time cannot real meal one favorite flavors instant lunch back buy every time goes \n",
            "Original summary: great and \n",
            "1/1 [==============================] - 0s 416ms/step\n",
            "1/1 [==============================] - 0s 38ms/step\n",
            "Predicted summary: \n",
            "\n",
            "\n",
            "Review: used water wonderful wonderful stuff \n",
            "Original summary: best \n",
            "1/1 [==============================] - 0s 417ms/step\n",
            "1/1 [==============================] - 0s 39ms/step\n",
            "Predicted summary: \n",
            "\n",
            "\n",
            "Review: good oatmeal like apple cinnamon best would since always taste could since like oatmeal really add milk \n",
            "Original summary: good \n",
            "1/1 [==============================] - 0s 414ms/step\n",
            "1/1 [==============================] - 0s 36ms/step\n",
            "Predicted summary: \n",
            "\n",
            "\n",
            "Review: several food day snack delicious us back good back two bags great see found amazon great bag milk milk great treat kids \n",
            "Original summary: best \n",
            "1/1 [==============================] - 0s 436ms/step\n",
            "1/1 [==============================] - 0s 41ms/step\n",
            "Predicted summary: \n",
            "\n",
            "\n",
            "Review: twizzlers strawberry favorite candy made candies one company company also make apple licorice green licorice like dry place recommended put licorice ever made pounds made candies product \n",
            "Original summary: great \n",
            "1/1 [==============================] - 0s 236ms/step\n",
            "1/1 [==============================] - 0s 27ms/step\n",
            "Predicted summary: \n",
            "\n",
            "\n",
            "Review: mccann oatmeal every morning amazon save almost per box great product tastes great healthy \n",
            "Original summary: food great \n",
            "1/1 [==============================] - 0s 239ms/step\n",
            "1/1 [==============================] - 0s 24ms/step\n",
            "Predicted summary: \n",
            "\n",
            "\n",
            "Review: bag chocolate fresh many \n",
            "Original summary: great \n",
            "1/1 [==============================] - 0s 256ms/step\n",
            "1/1 [==============================] - 0s 24ms/step\n",
            "Predicted summary: \n",
            "\n",
            "\n",
            "Review: deal salt use box last family year problem salt regular salt \n",
            "Original summary: great \n",
            "1/1 [==============================] - 0s 237ms/step\n",
            "1/1 [==============================] - 0s 26ms/step\n",
            "Predicted summary: \n",
            "\n",
            "\n",
            "Review: twizzlers brand licorice much better well brand get free good deal good taste strawberry taste \n",
            "Original summary: good \n",
            "1/1 [==============================] - 0s 239ms/step\n",
            "1/1 [==============================] - 0s 24ms/step\n",
            "Predicted summary: \n",
            "\n",
            "\n",
            "Review: need know oatmeal instant expensive store brand oatmeal little better texture something still oatmeal convenient \n",
            "Original summary: it is \n",
            "1/1 [==============================] - 0s 245ms/step\n",
            "1/1 [==============================] - 0s 26ms/step\n",
            "Predicted summary: \n",
            "\n",
            "\n",
            "Review: never coffee fan however purchased little trying coffee better one like products little super easy use really good coffee etc less would recommend anyone good price getting one \n",
            "Original summary: great \n",
            "1/1 [==============================] - 0s 233ms/step\n",
            "1/1 [==============================] - 0s 24ms/step\n",
            "Predicted summary: \n",
            "\n",
            "\n",
            "Review: fan hot spicy ramen long time enjoy love ramen love product bad way expensive amazon per \n",
            "Original summary: tastes great love \n",
            "1/1 [==============================] - 0s 234ms/step\n",
            "1/1 [==============================] - 0s 29ms/step\n",
            "Predicted summary: \n",
            "\n",
            "\n",
            "Review: instant oatmeal water mccann instant oatmeal texture excellent flavor good time mccann regular meal excellent take bit time morning best instant brand ever instant variety mccann instant oatmeal variety pack regular apples cinnamon maple brown sugar count boxes \n",
            "Original summary: great for \n",
            "1/1 [==============================] - 0s 224ms/step\n",
            "1/1 [==============================] - 0s 25ms/step\n",
            "Predicted summary: \n",
            "\n",
            "\n",
            "Review: lemon juice year flavor need much add water every day buy product \n",
            "Original summary: great \n",
            "1/1 [==============================] - 0s 228ms/step\n",
            "1/1 [==============================] - 0s 25ms/step\n",
            "Predicted summary: \n",
            "\n",
            "\n",
            "Review: grocery stores looking flavor jello green tomato found jello wonderful stores summer time could find anywhere jello tastes like made like great made regular jello yummy \n",
            "Original summary: great \n",
            "1/1 [==============================] - 0s 254ms/step\n",
            "1/1 [==============================] - 0s 24ms/step\n",
            "Predicted summary: \n",
            "\n",
            "\n",
            "Review: great price great taste amazon product \n",
            "Original summary: is my taste \n",
            "1/1 [==============================] - 0s 236ms/step\n",
            "1/1 [==============================] - 0s 24ms/step\n",
            "Predicted summary: \n",
            "\n",
            "\n",
            "Review: flavor texture mix usually like low carb things tried one \n",
            "Original summary: food \n",
            "1/1 [==============================] - 0s 238ms/step\n",
            "1/1 [==============================] - 0s 25ms/step\n",
            "Predicted summary: \n",
            "\n",
            "\n",
            "Review: great dog food dog allergies brand one \n",
            "Original summary: great dog food \n",
            "1/1 [==============================] - 0s 238ms/step\n",
            "1/1 [==============================] - 0s 24ms/step\n",
            "Predicted summary: \n",
            "\n",
            "\n",
            "Review: natural balance dry dog food meal brown food food last last food could find something allergic problem eating dry mix natural balance dry brown natural balance brown seems like better dog loves dog want dog eat better food see pet \n",
            "Original summary: for dog \n",
            "1/1 [==============================] - 0s 230ms/step\n",
            "1/1 [==============================] - 0s 29ms/step\n",
            "Predicted summary: \n",
            "\n",
            "\n",
            "Review: eating ramen since little never found better flavor hot spicy hot like sure good \n",
            "Original summary: my \n",
            "1/1 [==============================] - 0s 243ms/step\n",
            "1/1 [==============================] - 0s 25ms/step\n",
            "Predicted summary: \n",
            "\n",
            "\n",
            "Review: always purchased tuna thought would try brand taste tuna much \n",
            "Original summary: not the \n",
            "1/1 [==============================] - 0s 226ms/step\n",
            "1/1 [==============================] - 0s 24ms/step\n",
            "Predicted summary: \n",
            "\n",
            "\n",
            "Review: dog allergies food dog food see allergies got back allergic something brand found dog food well still eat something know \n",
            "Original summary: great for my \n",
            "1/1 [==============================] - 0s 233ms/step\n",
            "1/1 [==============================] - 0s 24ms/step\n",
            "Predicted summary: \n",
            "\n",
            "\n",
            "Review: wonderful food different food going right back natural balance \n",
            "Original summary: great food for my my dog \n",
            "1/1 [==============================] - 0s 243ms/step\n",
            "1/1 [==============================] - 0s 24ms/step\n",
            "Predicted summary: \n",
            "\n",
            "\n",
            "Review: like people coffee great taste tried different instant one one better ones another one want try instant coffee \n",
            "Original summary: great taste and \n",
            "1/1 [==============================] - 0s 243ms/step\n",
            "1/1 [==============================] - 0s 25ms/step\n",
            "Predicted summary: \n",
            "\n",
            "\n",
            "Review: mccann oatmeal good quality favorite apples cinnamon find none good hot excellent \n",
            "Original summary: good \n",
            "1/1 [==============================] - 0s 244ms/step\n",
            "1/1 [==============================] - 0s 24ms/step\n",
            "Predicted summary: \n",
            "\n",
            "\n"
          ]
        }
      ],
      "source": [
        "for i in range(0,100):\n",
        "    print(\"Review:\",seq2text(x_tr[i]))\n",
        "    print(\"Original summary:\",seq2summary(y_tr[i]))\n",
        "    print(\"Predicted summary:\",decode_sequence(x_tr[i].reshape(1,max_text_len)))\n",
        "    print(\"\\n\")"
      ]
    }
  ],
  "metadata": {
    "colab": {
      "provenance": []
    },
    "kernelspec": {
      "display_name": "Python 3",
      "name": "python3"
    },
    "language_info": {
      "name": "python"
    }
  },
  "nbformat": 4,
  "nbformat_minor": 0
}